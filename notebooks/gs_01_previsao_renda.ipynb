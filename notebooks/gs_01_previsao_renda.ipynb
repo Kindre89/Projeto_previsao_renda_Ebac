{
 "cells": [
  {
   "cell_type": "markdown",
   "metadata": {},
   "source": [
    "# EBAC - Regressão II - regressão múltipla\n",
    "\n",
    "## Tarefa I"
   ]
  },
  {
   "cell_type": "markdown",
   "metadata": {},
   "source": [
    "#### Previsão de renda II\n",
    "\n",
    "Vamos continuar trabalhando com a base 'previsao_de_renda.csv', que é a base do seu próximo projeto. Vamos usar os recursos que vimos até aqui nesta base.\n",
    "\n",
    "|variavel|descrição|\n",
    "|-|-|\n",
    "|data_ref                | Data de referência de coleta das variáveis |\n",
    "|index                   | Código de identificação do cliente|\n",
    "|sexo                    | Sexo do cliente|\n",
    "|posse_de_veiculo        | Indica se o cliente possui veículo|\n",
    "|posse_de_imovel         | Indica se o cliente possui imóvel|\n",
    "|qtd_filhos              | Quantidade de filhos do cliente|\n",
    "|tipo_renda              | Tipo de renda do cliente|\n",
    "|educacao                | Grau de instrução do cliente|\n",
    "|estado_civil            | Estado civil do cliente|\n",
    "|tipo_residencia         | Tipo de residência do cliente (própria, alugada etc)|\n",
    "|idade                   | Idade do cliente|\n",
    "|tempo_emprego           | Tempo no emprego atual|\n",
    "|qt_pessoas_residencia   | Quantidade de pessoas que moram na residência|\n",
    "|renda                   | Renda em reais|"
   ]
  },
  {
   "cell_type": "code",
   "execution_count": 4,
   "metadata": {},
   "outputs": [],
   "source": [
    "import numpy as np\n",
    "import pandas as pd\n",
    "import seaborn as sns\n",
    "import matplotlib.pyplot as plt\n",
    "from patsy import dmatrices\n",
    "\n",
    "from sklearn.model_selection import train_test_split\n",
    "from sklearn.preprocessing import LabelEncoder\n",
    "from sklearn.metrics import r2_score\n",
    "from sklearn.linear_model import Lasso,LinearRegression, Ridge \n",
    "\n",
    "from src.config import DADOS, PALETTE\n",
    "from src.funcao import avaliar_modelo_r2, best_estimator, stepwise_selection\n",
    "\n"
   ]
  },
  {
   "cell_type": "code",
   "execution_count": 5,
   "metadata": {},
   "outputs": [],
   "source": [
    "# Importando a base de dados\n",
    "df = pd.read_csv(DADOS)"
   ]
  },
  {
   "cell_type": "code",
   "execution_count": 6,
   "metadata": {},
   "outputs": [
    {
     "name": "stdout",
     "output_type": "stream",
     "text": [
      "<class 'pandas.core.frame.DataFrame'>\n",
      "RangeIndex: 15000 entries, 0 to 14999\n",
      "Data columns (total 15 columns):\n",
      " #   Column                 Non-Null Count  Dtype  \n",
      "---  ------                 --------------  -----  \n",
      " 0   Unnamed: 0             15000 non-null  int64  \n",
      " 1   data_ref               15000 non-null  object \n",
      " 2   id_cliente             15000 non-null  int64  \n",
      " 3   sexo                   15000 non-null  object \n",
      " 4   posse_de_veiculo       15000 non-null  bool   \n",
      " 5   posse_de_imovel        15000 non-null  bool   \n",
      " 6   qtd_filhos             15000 non-null  int64  \n",
      " 7   tipo_renda             15000 non-null  object \n",
      " 8   educacao               15000 non-null  object \n",
      " 9   estado_civil           15000 non-null  object \n",
      " 10  tipo_residencia        15000 non-null  object \n",
      " 11  idade                  15000 non-null  int64  \n",
      " 12  tempo_emprego          12427 non-null  float64\n",
      " 13  qt_pessoas_residencia  15000 non-null  float64\n",
      " 14  renda                  15000 non-null  float64\n",
      "dtypes: bool(2), float64(3), int64(4), object(6)\n",
      "memory usage: 1.5+ MB\n"
     ]
    }
   ],
   "source": [
    "df.info()"
   ]
  },
  {
   "cell_type": "code",
   "execution_count": 7,
   "metadata": {},
   "outputs": [
    {
     "data": {
      "text/html": [
       "<div>\n",
       "<style scoped>\n",
       "    .dataframe tbody tr th:only-of-type {\n",
       "        vertical-align: middle;\n",
       "    }\n",
       "\n",
       "    .dataframe tbody tr th {\n",
       "        vertical-align: top;\n",
       "    }\n",
       "\n",
       "    .dataframe thead th {\n",
       "        text-align: right;\n",
       "    }\n",
       "</style>\n",
       "<table border=\"1\" class=\"dataframe\">\n",
       "  <thead>\n",
       "    <tr style=\"text-align: right;\">\n",
       "      <th></th>\n",
       "      <th>Unnamed: 0</th>\n",
       "      <th>data_ref</th>\n",
       "      <th>id_cliente</th>\n",
       "      <th>sexo</th>\n",
       "      <th>posse_de_veiculo</th>\n",
       "      <th>posse_de_imovel</th>\n",
       "      <th>qtd_filhos</th>\n",
       "      <th>tipo_renda</th>\n",
       "      <th>educacao</th>\n",
       "      <th>estado_civil</th>\n",
       "      <th>tipo_residencia</th>\n",
       "      <th>idade</th>\n",
       "      <th>tempo_emprego</th>\n",
       "      <th>qt_pessoas_residencia</th>\n",
       "      <th>renda</th>\n",
       "    </tr>\n",
       "  </thead>\n",
       "  <tbody>\n",
       "    <tr>\n",
       "      <th>0</th>\n",
       "      <td>0</td>\n",
       "      <td>2015-01-01</td>\n",
       "      <td>15056</td>\n",
       "      <td>F</td>\n",
       "      <td>False</td>\n",
       "      <td>True</td>\n",
       "      <td>0</td>\n",
       "      <td>Empresário</td>\n",
       "      <td>Secundário</td>\n",
       "      <td>Solteiro</td>\n",
       "      <td>Casa</td>\n",
       "      <td>26</td>\n",
       "      <td>6.602740</td>\n",
       "      <td>1.0</td>\n",
       "      <td>8060.34</td>\n",
       "    </tr>\n",
       "    <tr>\n",
       "      <th>1</th>\n",
       "      <td>1</td>\n",
       "      <td>2015-01-01</td>\n",
       "      <td>9968</td>\n",
       "      <td>M</td>\n",
       "      <td>True</td>\n",
       "      <td>True</td>\n",
       "      <td>0</td>\n",
       "      <td>Assalariado</td>\n",
       "      <td>Superior completo</td>\n",
       "      <td>Casado</td>\n",
       "      <td>Casa</td>\n",
       "      <td>28</td>\n",
       "      <td>7.183562</td>\n",
       "      <td>2.0</td>\n",
       "      <td>1852.15</td>\n",
       "    </tr>\n",
       "    <tr>\n",
       "      <th>2</th>\n",
       "      <td>2</td>\n",
       "      <td>2015-01-01</td>\n",
       "      <td>4312</td>\n",
       "      <td>F</td>\n",
       "      <td>True</td>\n",
       "      <td>True</td>\n",
       "      <td>0</td>\n",
       "      <td>Empresário</td>\n",
       "      <td>Superior completo</td>\n",
       "      <td>Casado</td>\n",
       "      <td>Casa</td>\n",
       "      <td>35</td>\n",
       "      <td>0.838356</td>\n",
       "      <td>2.0</td>\n",
       "      <td>2253.89</td>\n",
       "    </tr>\n",
       "    <tr>\n",
       "      <th>3</th>\n",
       "      <td>3</td>\n",
       "      <td>2015-01-01</td>\n",
       "      <td>10639</td>\n",
       "      <td>F</td>\n",
       "      <td>False</td>\n",
       "      <td>True</td>\n",
       "      <td>1</td>\n",
       "      <td>Servidor público</td>\n",
       "      <td>Superior completo</td>\n",
       "      <td>Casado</td>\n",
       "      <td>Casa</td>\n",
       "      <td>30</td>\n",
       "      <td>4.846575</td>\n",
       "      <td>3.0</td>\n",
       "      <td>6600.77</td>\n",
       "    </tr>\n",
       "    <tr>\n",
       "      <th>4</th>\n",
       "      <td>4</td>\n",
       "      <td>2015-01-01</td>\n",
       "      <td>7064</td>\n",
       "      <td>M</td>\n",
       "      <td>True</td>\n",
       "      <td>False</td>\n",
       "      <td>0</td>\n",
       "      <td>Assalariado</td>\n",
       "      <td>Secundário</td>\n",
       "      <td>Solteiro</td>\n",
       "      <td>Governamental</td>\n",
       "      <td>33</td>\n",
       "      <td>4.293151</td>\n",
       "      <td>1.0</td>\n",
       "      <td>6475.97</td>\n",
       "    </tr>\n",
       "  </tbody>\n",
       "</table>\n",
       "</div>"
      ],
      "text/plain": [
       "   Unnamed: 0    data_ref  id_cliente sexo  posse_de_veiculo  posse_de_imovel  \\\n",
       "0           0  2015-01-01       15056    F             False             True   \n",
       "1           1  2015-01-01        9968    M              True             True   \n",
       "2           2  2015-01-01        4312    F              True             True   \n",
       "3           3  2015-01-01       10639    F             False             True   \n",
       "4           4  2015-01-01        7064    M              True            False   \n",
       "\n",
       "   qtd_filhos        tipo_renda           educacao estado_civil  \\\n",
       "0           0        Empresário         Secundário     Solteiro   \n",
       "1           0       Assalariado  Superior completo       Casado   \n",
       "2           0        Empresário  Superior completo       Casado   \n",
       "3           1  Servidor público  Superior completo       Casado   \n",
       "4           0       Assalariado         Secundário     Solteiro   \n",
       "\n",
       "  tipo_residencia  idade  tempo_emprego  qt_pessoas_residencia    renda  \n",
       "0            Casa     26       6.602740                    1.0  8060.34  \n",
       "1            Casa     28       7.183562                    2.0  1852.15  \n",
       "2            Casa     35       0.838356                    2.0  2253.89  \n",
       "3            Casa     30       4.846575                    3.0  6600.77  \n",
       "4   Governamental     33       4.293151                    1.0  6475.97  "
      ]
     },
     "execution_count": 7,
     "metadata": {},
     "output_type": "execute_result"
    }
   ],
   "source": [
    "df.head()"
   ]
  },
  {
   "cell_type": "markdown",
   "metadata": {},
   "source": [
    "1. Separe a base em treinamento e teste (25% para teste, 75% para treinamento).\n",
    "2. Rode uma regularização *ridge* com alpha = [0, 0.001, 0.005, 0.01, 0.05, 0.1] e avalie o $R^2$ na base de testes. Qual o melhor modelo?\n",
    "3. Faça o mesmo que no passo 2, com uma regressão *LASSO*. Qual método chega a um melhor resultado?\n",
    "4. Rode um modelo *stepwise*. Avalie o $R^2$ na vase de testes. Qual o melhor resultado?\n",
    "5. Compare os parâmetros e avalie eventuais diferenças. Qual modelo você acha o melhor de todos?\n",
    "6. Partindo dos modelos que você ajustou, tente melhorar o $R^2$ na base de testes. Use a criatividade, veja se consegue inserir alguma transformação ou combinação de variáveis.\n",
    "7. Ajuste uma árvore de regressão e veja se consegue um $R^2$ melhor com ela\n",
    "8. Avalie a previsão mediana do log(renda) nas bases de treinamento e teste. A previsão mediana do log(renda), por hipótese, é o mesmo que a previsão média do log(renda).\n",
    "9. Obtenha a previsão mediana da renda - a mediana é o exponencial do item anterior. Observe que para a média não vale o mesmo resultado.\n",
    "10. Divida a previsão do item 9 em 10 grupos. Calcule a média, mediana, percentil 5% e percentil 95% da renda para cada grupo. Faça um gráfico.\n",
    "Analise e comente as limitações dessa previsão, e reflita sobre o quão útil é este modelo.\n",
    "\n",
    "\n",
    "\n",
    "\n",
    "\n",
    "\n",
    "\n"
   ]
  },
  {
   "cell_type": "code",
   "execution_count": 9,
   "metadata": {},
   "outputs": [],
   "source": [
    "# Remover valores nulo\n",
    "df.dropna(axis=0,inplace=True)\n",
    "\n",
    "\n"
   ]
  },
  {
   "cell_type": "code",
   "execution_count": 10,
   "metadata": {},
   "outputs": [
    {
     "data": {
      "image/png": "[encoded data removed]",
      "text/plain": [
       "<Figure size 1000x500 with 9 Axes>"
      ]
     },
     "metadata": {},
     "output_type": "display_data"
    }
   ],
   "source": [
    "# identificação de outliers\n",
    "fig, axs = plt.subplots(3, 3, figsize=(10, 5))\n",
    "\n",
    "for ax, coluna in zip(axs.flatten(), df.select_dtypes(\"number\").columns):\n",
    "    sns.boxplot(data=df, x=coluna, ax=ax, showmeans=True)\n",
    "\n",
    "plt.tight_layout()\n",
    "\n",
    "plt.show()"
   ]
  },
  {
   "cell_type": "code",
   "execution_count": 11,
   "metadata": {},
   "outputs": [],
   "source": [
    "# convertendo a coluna \"qtd_filhos\" em float\n",
    "df[\"qtd_filhos\"] = df[\"qtd_filhos\"].astype(float)\n",
    "\n"
   ]
  },
  {
   "cell_type": "code",
   "execution_count": 12,
   "metadata": {},
   "outputs": [],
   "source": [
    "QUANTIL = 0.99\n",
    "\n",
    "df_clean = df[\n",
    "    (df[\"qtd_filhos\"] < df[\"qtd_filhos\"].quantile(QUANTIL)) &\n",
    "    (df[\"tempo_emprego\"] < df[\"tempo_emprego\"].quantile(QUANTIL)) &\n",
    "    (df[\"qt_pessoas_residencia\"] < df[\"qt_pessoas_residencia\"].quantile(QUANTIL)) &\n",
    "    (df[\"renda\"] < df[\"renda\"].quantile(QUANTIL))  # Corrigindo o nome da coluna\n",
    "]\n"
   ]
  },
  {
   "cell_type": "markdown",
   "metadata": {},
   "source": [
    "\n",
    "Calculando quanto dos nossos dados ainda permanecem depois da retirada do outiliers.\n"
   ]
  },
  {
   "cell_type": "code",
   "execution_count": 14,
   "metadata": {},
   "outputs": [
    {
     "data": {
      "text/plain": [
       "0.9645932244306752"
      ]
     },
     "execution_count": 14,
     "metadata": {},
     "output_type": "execute_result"
    }
   ],
   "source": [
    "\n",
    "df_clean.shape[0]/ df.shape[0]"
   ]
  },
  {
   "cell_type": "code",
   "execution_count": 15,
   "metadata": {},
   "outputs": [],
   "source": [
    "# Removendo colunas desnecessárias\n",
    "X = df_clean.drop([\"Unnamed: 0\", \"data_ref\",\"id_cliente\", \"renda\"], axis=1)\n",
    "y = df_clean[\"renda\"]"
   ]
  },
  {
   "cell_type": "code",
   "execution_count": 16,
   "metadata": {},
   "outputs": [],
   "source": [
    "# Transformando variáveis categórica em variáveis dummy\n",
    "X = pd.get_dummies(X, drop_first=True)\n"
   ]
  },
  {
   "cell_type": "code",
   "execution_count": 17,
   "metadata": {},
   "outputs": [
    {
     "name": "stdout",
     "output_type": "stream",
     "text": [
      "<class 'pandas.core.series.Series'>\n",
      "Index: 11987 entries, 0 to 14999\n",
      "Series name: renda\n",
      "Non-Null Count  Dtype  \n",
      "--------------  -----  \n",
      "11987 non-null  float64\n",
      "dtypes: float64(1)\n",
      "memory usage: 187.3 KB\n"
     ]
    }
   ],
   "source": [
    "y.info()"
   ]
  },
  {
   "cell_type": "code",
   "execution_count": 18,
   "metadata": {},
   "outputs": [
    {
     "name": "stdout",
     "output_type": "stream",
     "text": [
      "<class 'pandas.core.frame.DataFrame'>\n",
      "Index: 11987 entries, 0 to 14999\n",
      "Data columns (total 24 columns):\n",
      " #   Column                         Non-Null Count  Dtype  \n",
      "---  ------                         --------------  -----  \n",
      " 0   posse_de_veiculo               11987 non-null  bool   \n",
      " 1   posse_de_imovel                11987 non-null  bool   \n",
      " 2   qtd_filhos                     11987 non-null  float64\n",
      " 3   idade                          11987 non-null  int64  \n",
      " 4   tempo_emprego                  11987 non-null  float64\n",
      " 5   qt_pessoas_residencia          11987 non-null  float64\n",
      " 6   sexo_M                         11987 non-null  bool   \n",
      " 7   tipo_renda_Bolsista            11987 non-null  bool   \n",
      " 8   tipo_renda_Empresário          11987 non-null  bool   \n",
      " 9   tipo_renda_Pensionista         11987 non-null  bool   \n",
      " 10  tipo_renda_Servidor público    11987 non-null  bool   \n",
      " 11  educacao_Pós graduação         11987 non-null  bool   \n",
      " 12  educacao_Secundário            11987 non-null  bool   \n",
      " 13  educacao_Superior completo     11987 non-null  bool   \n",
      " 14  educacao_Superior incompleto   11987 non-null  bool   \n",
      " 15  estado_civil_Separado          11987 non-null  bool   \n",
      " 16  estado_civil_Solteiro          11987 non-null  bool   \n",
      " 17  estado_civil_União             11987 non-null  bool   \n",
      " 18  estado_civil_Viúvo             11987 non-null  bool   \n",
      " 19  tipo_residencia_Casa           11987 non-null  bool   \n",
      " 20  tipo_residencia_Com os pais    11987 non-null  bool   \n",
      " 21  tipo_residencia_Comunitário    11987 non-null  bool   \n",
      " 22  tipo_residencia_Estúdio        11987 non-null  bool   \n",
      " 23  tipo_residencia_Governamental  11987 non-null  bool   \n",
      "dtypes: bool(20), float64(3), int64(1)\n",
      "memory usage: 702.4 KB\n"
     ]
    }
   ],
   "source": [
    "X.info()"
   ]
  },
  {
   "cell_type": "code",
   "execution_count": 19,
   "metadata": {},
   "outputs": [],
   "source": [
    "# Identifica colunas booleanas e as converte para int\n",
    "X[X.select_dtypes(include=['bool']).columns] = X.select_dtypes(include=['bool']).astype(int)"
   ]
  },
  {
   "cell_type": "code",
   "execution_count": 20,
   "metadata": {},
   "outputs": [],
   "source": [
    "# Separando em dados de treino (75%) e teste(25%)\n",
    "X_train, X_test, y_train, y_test = train_test_split(X, y, test_size=0.25, random_state=100)"
   ]
  },
  {
   "cell_type": "code",
   "execution_count": 21,
   "metadata": {},
   "outputs": [],
   "source": [
    "# Lista de valores de alpha \n",
    "alphas = [0, 0.001, 0.005, 0.01, 0.05, 0.1]"
   ]
  },
  {
   "cell_type": "code",
   "execution_count": 22,
   "metadata": {},
   "outputs": [
    {
     "data": {
      "text/plain": [
       "[0.28664453746005414,\n",
       " 0.286644540183983,\n",
       " 0.2866445507889376,\n",
       " 0.28664456339322575,\n",
       " 0.28664463859746037,\n",
       " 0.28664467063079646]"
      ]
     },
     "execution_count": 22,
     "metadata": {},
     "output_type": "execute_result"
    }
   ],
   "source": [
    "# Testar Ridge\n",
    "r2_ridge = avaliar_modelo_r2(alphas, X_train, y_train, X_test, y_test, mod_pre=Ridge, max_iter=600)\n",
    "r2_ridge"
   ]
  },
  {
   "cell_type": "code",
   "execution_count": 23,
   "metadata": {},
   "outputs": [
    {
     "name": "stdout",
     "output_type": "stream",
     "text": [
      "R² para Ridge:\n",
      "Alpha = 0: R² = 0.28664453746005414\n",
      "Alpha = 0.001: R² = 0.286644540183983\n",
      "Alpha = 0.005: R² = 0.2866445507889376\n",
      "Alpha = 0.01: R² = 0.28664456339322575\n",
      "Alpha = 0.05: R² = 0.28664463859746037\n",
      "Alpha = 0.1: R² = 0.28664467063079646\n"
     ]
    }
   ],
   "source": [
    "# Exibir resultados de R² para Ridge\n",
    "print(\"R² para Ridge:\")\n",
    "for alpha, r2 in zip(alphas, r2_ridge):\n",
    "   print(f'Alpha = {alpha}: R² = {r2}')"
   ]
  },
  {
   "cell_type": "code",
   "execution_count": 24,
   "metadata": {},
   "outputs": [
    {
     "data": {
      "text/plain": [
       "(0.1, 0.28664467063079646)"
      ]
     },
     "execution_count": 24,
     "metadata": {},
     "output_type": "execute_result"
    }
   ],
   "source": [
    "# Melhor estimador Ridge\n",
    "best_estimator(alphas, r2_ridge)\n"
   ]
  },
  {
   "cell_type": "code",
   "execution_count": 25,
   "metadata": {},
   "outputs": [
    {
     "name": "stderr",
     "output_type": "stream",
     "text": [
      "C:\\Users\\Gabriel\\.ai-navigator\\conda\\envs\\projeto_regressao\\Lib\\site-packages\\sklearn\\base.py:1473: UserWarning: With alpha=0, this algorithm does not converge well. You are advised to use the LinearRegression estimator\n",
      "  return fit_method(estimator, *args, **kwargs)\n",
      "C:\\Users\\Gabriel\\.ai-navigator\\conda\\envs\\projeto_regressao\\Lib\\site-packages\\sklearn\\linear_model\\_coordinate_descent.py:697: UserWarning: Coordinate descent with no regularization may lead to unexpected results and is discouraged.\n",
      "  model = cd_fast.enet_coordinate_descent(\n",
      "C:\\Users\\Gabriel\\.ai-navigator\\conda\\envs\\projeto_regressao\\Lib\\site-packages\\sklearn\\linear_model\\_coordinate_descent.py:697: ConvergenceWarning: Objective did not converge. You might want to increase the number of iterations, check the scale of the features or consider increasing regularisation. Duality gap: 9.157e+10, tolerance: 2.553e+07 Linear regression models with null weight for the l1 regularization term are more efficiently fitted using one of the solvers implemented in sklearn.linear_model.Ridge/RidgeCV instead.\n",
      "  model = cd_fast.enet_coordinate_descent(\n",
      "C:\\Users\\Gabriel\\.ai-navigator\\conda\\envs\\projeto_regressao\\Lib\\site-packages\\sklearn\\linear_model\\_coordinate_descent.py:697: ConvergenceWarning: Objective did not converge. You might want to increase the number of iterations, check the scale of the features or consider increasing regularisation. Duality gap: 8.620e+10, tolerance: 2.553e+07\n",
      "  model = cd_fast.enet_coordinate_descent(\n",
      "C:\\Users\\Gabriel\\.ai-navigator\\conda\\envs\\projeto_regressao\\Lib\\site-packages\\sklearn\\linear_model\\_coordinate_descent.py:697: ConvergenceWarning: Objective did not converge. You might want to increase the number of iterations, check the scale of the features or consider increasing regularisation. Duality gap: 6.869e+10, tolerance: 2.553e+07\n",
      "  model = cd_fast.enet_coordinate_descent(\n",
      "C:\\Users\\Gabriel\\.ai-navigator\\conda\\envs\\projeto_regressao\\Lib\\site-packages\\sklearn\\linear_model\\_coordinate_descent.py:697: ConvergenceWarning: Objective did not converge. You might want to increase the number of iterations, check the scale of the features or consider increasing regularisation. Duality gap: 5.320e+10, tolerance: 2.553e+07\n",
      "  model = cd_fast.enet_coordinate_descent(\n",
      "C:\\Users\\Gabriel\\.ai-navigator\\conda\\envs\\projeto_regressao\\Lib\\site-packages\\sklearn\\linear_model\\_coordinate_descent.py:697: ConvergenceWarning: Objective did not converge. You might want to increase the number of iterations, check the scale of the features or consider increasing regularisation. Duality gap: 1.275e+10, tolerance: 2.553e+07\n",
      "  model = cd_fast.enet_coordinate_descent(\n",
      "C:\\Users\\Gabriel\\.ai-navigator\\conda\\envs\\projeto_regressao\\Lib\\site-packages\\sklearn\\linear_model\\_coordinate_descent.py:697: ConvergenceWarning: Objective did not converge. You might want to increase the number of iterations, check the scale of the features or consider increasing regularisation. Duality gap: 4.113e+09, tolerance: 2.553e+07\n",
      "  model = cd_fast.enet_coordinate_descent(\n"
     ]
    },
    {
     "data": {
      "text/plain": [
       "[0.2866442185789235,\n",
       " 0.2866444146906798,\n",
       " 0.28664518877266754,\n",
       " 0.28664613305381925,\n",
       " 0.2866527544496489,\n",
       " 0.2866586990611145]"
      ]
     },
     "execution_count": 25,
     "metadata": {},
     "output_type": "execute_result"
    }
   ],
   "source": [
    "# Testar Lasso\n",
    "r2_lasso = avaliar_modelo_r2(alphas, X_train, y_train, X_test, y_test, mod_pre=Lasso, max_iter=1000)\n",
    "r2_lasso"
   ]
  },
  {
   "cell_type": "code",
   "execution_count": 26,
   "metadata": {},
   "outputs": [
    {
     "name": "stdout",
     "output_type": "stream",
     "text": [
      "\n",
      "R² para Lasso:\n",
      "Alpha = 0: R² = 0.2866442185789235\n",
      "Alpha = 0.001: R² = 0.2866444146906798\n",
      "Alpha = 0.005: R² = 0.28664518877266754\n",
      "Alpha = 0.01: R² = 0.28664613305381925\n",
      "Alpha = 0.05: R² = 0.2866527544496489\n",
      "Alpha = 0.1: R² = 0.2866586990611145\n"
     ]
    }
   ],
   "source": [
    "# Exibir resultados de R² para Lasso\n",
    "print(\"\\nR² para Lasso:\")\n",
    "for alpha, r2 in zip(alphas, r2_lasso):\n",
    "   print(f'Alpha = {alpha}: R² = {r2}')"
   ]
  },
  {
   "cell_type": "code",
   "execution_count": 27,
   "metadata": {},
   "outputs": [
    {
     "data": {
      "text/plain": [
       "(0.1, 0.2866586990611145)"
      ]
     },
     "execution_count": 27,
     "metadata": {},
     "output_type": "execute_result"
    }
   ],
   "source": [
    "# melhor estimador Lasso\n",
    "best_estimator(alphas, r2_lasso)\n"
   ]
  },
  {
   "cell_type": "code",
   "execution_count": 28,
   "metadata": {},
   "outputs": [
    {
     "name": "stdout",
     "output_type": "stream",
     "text": [
      "posse_de_veiculo                   int64\n",
      "posse_de_imovel                    int64\n",
      "qtd_filhos                       float64\n",
      "idade                              int64\n",
      "tempo_emprego                    float64\n",
      "qt_pessoas_residencia            float64\n",
      "sexo_M                             int64\n",
      "tipo_renda_Bolsista                int64\n",
      "tipo_renda_Empresário              int64\n",
      "tipo_renda_Pensionista             int64\n",
      "tipo_renda_Servidor público        int64\n",
      "educacao_Pós graduação             int64\n",
      "educacao_Secundário                int64\n",
      "educacao_Superior completo         int64\n",
      "educacao_Superior incompleto       int64\n",
      "estado_civil_Separado              int64\n",
      "estado_civil_Solteiro              int64\n",
      "estado_civil_União                 int64\n",
      "estado_civil_Viúvo                 int64\n",
      "tipo_residencia_Casa               int64\n",
      "tipo_residencia_Com os pais        int64\n",
      "tipo_residencia_Comunitário        int64\n",
      "tipo_residencia_Estúdio            int64\n",
      "tipo_residencia_Governamental      int64\n",
      "dtype: object\n"
     ]
    }
   ],
   "source": [
    "# Verificar tipos das colunas\n",
    "print(X_train.dtypes)"
   ]
  },
  {
   "cell_type": "code",
   "execution_count": 29,
   "metadata": {},
   "outputs": [],
   "source": [
    "\n",
    "\n",
    "X_test[X_test.select_dtypes(include=['bool']).columns] = X_test.select_dtypes(include=['bool']).astype(int)\n"
   ]
  },
  {
   "cell_type": "code",
   "execution_count": 30,
   "metadata": {
    "scrolled": true
   },
   "outputs": [
    {
     "name": "stdout",
     "output_type": "stream",
     "text": [
      "Add  tempo_emprego                  with p-value 0.000000\n",
      "Add  sexo_M                         with p-value 0.000000\n",
      "Add  tipo_renda_Empresário          with p-value 0.000000\n",
      "Add  educacao_Superior completo     with p-value 0.000000\n",
      "Add  idade                          with p-value 0.000000\n",
      "Add  qtd_filhos                     with p-value 0.000028\n",
      "Add  posse_de_imovel                with p-value 0.000053\n",
      "Add  tipo_renda_Servidor público    with p-value 0.000099\n",
      "\n",
      "Melhor modelo Stepwise - R² na base de teste: 0.2924\n",
      "Erro Quadrático Médio (MSE): 20419556.1307\n",
      "Variáveis selecionadas: ['tempo_emprego', 'sexo_M', 'tipo_renda_Empresário', 'educacao_Superior completo', 'idade', 'qtd_filhos', 'posse_de_imovel', 'tipo_renda_Servidor público']\n"
     ]
    },
    {
     "data": {
      "text/plain": [
       "(['tempo_emprego',\n",
       "  'sexo_M',\n",
       "  'tipo_renda_Empresário',\n",
       "  'educacao_Superior completo',\n",
       "  'idade',\n",
       "  'qtd_filhos',\n",
       "  'posse_de_imovel',\n",
       "  'tipo_renda_Servidor público'],\n",
       " LinearRegression(),\n",
       " np.float64(20419556.13069531),\n",
       " 0.29239582072393044)"
      ]
     },
     "execution_count": 30,
     "metadata": {},
     "output_type": "execute_result"
    }
   ],
   "source": [
    "#stepwise\n",
    "stepwise_selection(X,y)"
   ]
  },
  {
   "cell_type": "markdown",
   "metadata": {},
   "source": [
    "O $r^2$ do modelo stepwise é o maior até agora. Entretanto, ele não apresenta uma vantagem significativa, já que a diferença em relação a outros modelos, como ridge e lasso, não ultrapassa um ponto percentual. Talvez, com mais dados, ele possa apresentar um desempenho melhor.lhor.lhor."
   ]
  },
  {
   "cell_type": "code",
   "execution_count": 32,
   "metadata": {},
   "outputs": [
    {
     "data": {
      "image/png": "[encoded data removed]",
      "text/plain": [
       "<Figure size 640x480 with 2 Axes>"
      ]
     },
     "metadata": {},
     "output_type": "display_data"
    }
   ],
   "source": [
    "# mapa de correlação das colunas..\n",
    "matriz = np.triu(df.select_dtypes(\"number\").corr())\n",
    "\n",
    "fig, ax = plt.subplots()\n",
    "\n",
    "sns.heatmap(\n",
    "    df_clean.select_dtypes(\"number\").corr(),\n",
    "    cmap=PALETTE,\n",
    "    mask=matriz,\n",
    "    annot=True,\n",
    "    fmt=\".2f\",\n",
    "    ax=ax\n",
    ")\n",
    "\n",
    "plt.show()"
   ]
  },
  {
   "cell_type": "markdown",
   "metadata": {},
   "source": [
    "# Algumas variáveis novas: \n",
    "- categorizar tempo de emprego.\n",
    "- quantidade de pessoas na residência por quantidade de filho.\n",
    "- quandidade de pessoas na residência por idade.\n",
    "- idade por tempo de emprego."
   ]
  },
  {
   "cell_type": "code",
   "execution_count": 102,
   "metadata": {},
   "outputs": [
    {
     "data": {
      "text/plain": [
       "0         pleno\n",
       "1        senior\n",
       "2        junior\n",
       "3         pleno\n",
       "4         pleno\n",
       "          ...  \n",
       "14994    senior\n",
       "14995    senior\n",
       "14997    senior\n",
       "14998     pleno\n",
       "14999    senior\n",
       "Name: tempo_emprego_cat, Length: 11987, dtype: category\n",
       "Categories (3, object): ['junior' < 'pleno' < 'senior']"
      ]
     },
     "execution_count": 102,
     "metadata": {},
     "output_type": "execute_result"
    }
   ],
   "source": [
    "#categorizando a coluna tempo de emprego\n",
    "df_clean.loc[:,\"tempo_emprego_cat\"] = pd.cut(df[\"tempo_emprego\"],\n",
    "                                bins=[0,3,7,float(\"inf\")],\n",
    "                                labels=[\"junior\", \"pleno\",\"senior\"]\n",
    "                                )\n",
    "df_clean[\"tempo_emprego_cat\"]"
   ]
  },
  {
   "cell_type": "code",
   "execution_count": 35,
   "metadata": {},
   "outputs": [
    {
     "data": {
      "text/plain": [
       "tempo_emprego_cat\n",
       "senior    4970\n",
       "pleno     3970\n",
       "junior    3047\n",
       "Name: count, dtype: int64"
      ]
     },
     "execution_count": 35,
     "metadata": {},
     "output_type": "execute_result"
    }
   ],
   "source": [
    "df_clean[\"tempo_emprego_cat\"].value_counts()"
   ]
  },
  {
   "cell_type": "code",
   "execution_count": 36,
   "metadata": {},
   "outputs": [
    {
     "name": "stderr",
     "output_type": "stream",
     "text": [
      "C:\\Users\\Gabriel\\AppData\\Local\\Temp\\ipykernel_8200\\2695813454.py:1: SettingWithCopyWarning: \n",
      "A value is trying to be set on a copy of a slice from a DataFrame.\n",
      "Try using .loc[row_indexer,col_indexer] = value instead\n",
      "\n",
      "See the caveats in the documentation: https://pandas.pydata.org/pandas-docs/stable/user_guide/indexing.html#returning-a-view-versus-a-copy\n",
      "  df_clean[\"qt_pessoa_res_por_idade\"] = df[\"qt_pessoas_residencia\"]/ df[\"idade\"]\n",
      "C:\\Users\\Gabriel\\AppData\\Local\\Temp\\ipykernel_8200\\2695813454.py:2: SettingWithCopyWarning: \n",
      "A value is trying to be set on a copy of a slice from a DataFrame.\n",
      "Try using .loc[row_indexer,col_indexer] = value instead\n",
      "\n",
      "See the caveats in the documentation: https://pandas.pydata.org/pandas-docs/stable/user_guide/indexing.html#returning-a-view-versus-a-copy\n",
      "  df_clean[\"indade_temp_emprego\"]= df[\"idade\"]/df[\"tempo_emprego\"]\n"
     ]
    },
    {
     "data": {
      "text/html": [
       "<div>\n",
       "<style scoped>\n",
       "    .dataframe tbody tr th:only-of-type {\n",
       "        vertical-align: middle;\n",
       "    }\n",
       "\n",
       "    .dataframe tbody tr th {\n",
       "        vertical-align: top;\n",
       "    }\n",
       "\n",
       "    .dataframe thead th {\n",
       "        text-align: right;\n",
       "    }\n",
       "</style>\n",
       "<table border=\"1\" class=\"dataframe\">\n",
       "  <thead>\n",
       "    <tr style=\"text-align: right;\">\n",
       "      <th></th>\n",
       "      <th>Unnamed: 0</th>\n",
       "      <th>data_ref</th>\n",
       "      <th>id_cliente</th>\n",
       "      <th>sexo</th>\n",
       "      <th>posse_de_veiculo</th>\n",
       "      <th>posse_de_imovel</th>\n",
       "      <th>qtd_filhos</th>\n",
       "      <th>tipo_renda</th>\n",
       "      <th>educacao</th>\n",
       "      <th>estado_civil</th>\n",
       "      <th>tipo_residencia</th>\n",
       "      <th>idade</th>\n",
       "      <th>tempo_emprego</th>\n",
       "      <th>qt_pessoas_residencia</th>\n",
       "      <th>renda</th>\n",
       "      <th>tempo_emprego_cat</th>\n",
       "      <th>qt_pessoa_res_por_idade</th>\n",
       "      <th>indade_temp_emprego</th>\n",
       "    </tr>\n",
       "  </thead>\n",
       "  <tbody>\n",
       "    <tr>\n",
       "      <th>0</th>\n",
       "      <td>0</td>\n",
       "      <td>2015-01-01</td>\n",
       "      <td>15056</td>\n",
       "      <td>F</td>\n",
       "      <td>False</td>\n",
       "      <td>True</td>\n",
       "      <td>0.0</td>\n",
       "      <td>Empresário</td>\n",
       "      <td>Secundário</td>\n",
       "      <td>Solteiro</td>\n",
       "      <td>Casa</td>\n",
       "      <td>26</td>\n",
       "      <td>6.602740</td>\n",
       "      <td>1.0</td>\n",
       "      <td>8060.34</td>\n",
       "      <td>pleno</td>\n",
       "      <td>0.038462</td>\n",
       "      <td>3.937759</td>\n",
       "    </tr>\n",
       "    <tr>\n",
       "      <th>1</th>\n",
       "      <td>1</td>\n",
       "      <td>2015-01-01</td>\n",
       "      <td>9968</td>\n",
       "      <td>M</td>\n",
       "      <td>True</td>\n",
       "      <td>True</td>\n",
       "      <td>0.0</td>\n",
       "      <td>Assalariado</td>\n",
       "      <td>Superior completo</td>\n",
       "      <td>Casado</td>\n",
       "      <td>Casa</td>\n",
       "      <td>28</td>\n",
       "      <td>7.183562</td>\n",
       "      <td>2.0</td>\n",
       "      <td>1852.15</td>\n",
       "      <td>senior</td>\n",
       "      <td>0.071429</td>\n",
       "      <td>3.897788</td>\n",
       "    </tr>\n",
       "    <tr>\n",
       "      <th>2</th>\n",
       "      <td>2</td>\n",
       "      <td>2015-01-01</td>\n",
       "      <td>4312</td>\n",
       "      <td>F</td>\n",
       "      <td>True</td>\n",
       "      <td>True</td>\n",
       "      <td>0.0</td>\n",
       "      <td>Empresário</td>\n",
       "      <td>Superior completo</td>\n",
       "      <td>Casado</td>\n",
       "      <td>Casa</td>\n",
       "      <td>35</td>\n",
       "      <td>0.838356</td>\n",
       "      <td>2.0</td>\n",
       "      <td>2253.89</td>\n",
       "      <td>junior</td>\n",
       "      <td>0.057143</td>\n",
       "      <td>41.748366</td>\n",
       "    </tr>\n",
       "    <tr>\n",
       "      <th>3</th>\n",
       "      <td>3</td>\n",
       "      <td>2015-01-01</td>\n",
       "      <td>10639</td>\n",
       "      <td>F</td>\n",
       "      <td>False</td>\n",
       "      <td>True</td>\n",
       "      <td>1.0</td>\n",
       "      <td>Servidor público</td>\n",
       "      <td>Superior completo</td>\n",
       "      <td>Casado</td>\n",
       "      <td>Casa</td>\n",
       "      <td>30</td>\n",
       "      <td>4.846575</td>\n",
       "      <td>3.0</td>\n",
       "      <td>6600.77</td>\n",
       "      <td>pleno</td>\n",
       "      <td>0.100000</td>\n",
       "      <td>6.189938</td>\n",
       "    </tr>\n",
       "    <tr>\n",
       "      <th>4</th>\n",
       "      <td>4</td>\n",
       "      <td>2015-01-01</td>\n",
       "      <td>7064</td>\n",
       "      <td>M</td>\n",
       "      <td>True</td>\n",
       "      <td>False</td>\n",
       "      <td>0.0</td>\n",
       "      <td>Assalariado</td>\n",
       "      <td>Secundário</td>\n",
       "      <td>Solteiro</td>\n",
       "      <td>Governamental</td>\n",
       "      <td>33</td>\n",
       "      <td>4.293151</td>\n",
       "      <td>1.0</td>\n",
       "      <td>6475.97</td>\n",
       "      <td>pleno</td>\n",
       "      <td>0.030303</td>\n",
       "      <td>7.686662</td>\n",
       "    </tr>\n",
       "    <tr>\n",
       "      <th>...</th>\n",
       "      <td>...</td>\n",
       "      <td>...</td>\n",
       "      <td>...</td>\n",
       "      <td>...</td>\n",
       "      <td>...</td>\n",
       "      <td>...</td>\n",
       "      <td>...</td>\n",
       "      <td>...</td>\n",
       "      <td>...</td>\n",
       "      <td>...</td>\n",
       "      <td>...</td>\n",
       "      <td>...</td>\n",
       "      <td>...</td>\n",
       "      <td>...</td>\n",
       "      <td>...</td>\n",
       "      <td>...</td>\n",
       "      <td>...</td>\n",
       "      <td>...</td>\n",
       "    </tr>\n",
       "    <tr>\n",
       "      <th>14994</th>\n",
       "      <td>14994</td>\n",
       "      <td>2016-03-01</td>\n",
       "      <td>11477</td>\n",
       "      <td>M</td>\n",
       "      <td>True</td>\n",
       "      <td>False</td>\n",
       "      <td>0.0</td>\n",
       "      <td>Empresário</td>\n",
       "      <td>Superior incompleto</td>\n",
       "      <td>Casado</td>\n",
       "      <td>Casa</td>\n",
       "      <td>32</td>\n",
       "      <td>9.849315</td>\n",
       "      <td>2.0</td>\n",
       "      <td>1592.57</td>\n",
       "      <td>senior</td>\n",
       "      <td>0.062500</td>\n",
       "      <td>3.248957</td>\n",
       "    </tr>\n",
       "    <tr>\n",
       "      <th>14995</th>\n",
       "      <td>14995</td>\n",
       "      <td>2016-03-01</td>\n",
       "      <td>16006</td>\n",
       "      <td>F</td>\n",
       "      <td>False</td>\n",
       "      <td>True</td>\n",
       "      <td>0.0</td>\n",
       "      <td>Empresário</td>\n",
       "      <td>Secundário</td>\n",
       "      <td>Solteiro</td>\n",
       "      <td>Casa</td>\n",
       "      <td>48</td>\n",
       "      <td>13.887671</td>\n",
       "      <td>1.0</td>\n",
       "      <td>7990.58</td>\n",
       "      <td>senior</td>\n",
       "      <td>0.020833</td>\n",
       "      <td>3.456303</td>\n",
       "    </tr>\n",
       "    <tr>\n",
       "      <th>14997</th>\n",
       "      <td>14997</td>\n",
       "      <td>2016-03-01</td>\n",
       "      <td>6194</td>\n",
       "      <td>F</td>\n",
       "      <td>True</td>\n",
       "      <td>True</td>\n",
       "      <td>0.0</td>\n",
       "      <td>Assalariado</td>\n",
       "      <td>Superior completo</td>\n",
       "      <td>Casado</td>\n",
       "      <td>Casa</td>\n",
       "      <td>45</td>\n",
       "      <td>7.832877</td>\n",
       "      <td>2.0</td>\n",
       "      <td>604.82</td>\n",
       "      <td>senior</td>\n",
       "      <td>0.044444</td>\n",
       "      <td>5.745016</td>\n",
       "    </tr>\n",
       "    <tr>\n",
       "      <th>14998</th>\n",
       "      <td>14998</td>\n",
       "      <td>2016-03-01</td>\n",
       "      <td>4922</td>\n",
       "      <td>M</td>\n",
       "      <td>True</td>\n",
       "      <td>False</td>\n",
       "      <td>0.0</td>\n",
       "      <td>Empresário</td>\n",
       "      <td>Superior completo</td>\n",
       "      <td>Casado</td>\n",
       "      <td>Casa</td>\n",
       "      <td>36</td>\n",
       "      <td>4.298630</td>\n",
       "      <td>2.0</td>\n",
       "      <td>3352.27</td>\n",
       "      <td>pleno</td>\n",
       "      <td>0.055556</td>\n",
       "      <td>8.374761</td>\n",
       "    </tr>\n",
       "    <tr>\n",
       "      <th>14999</th>\n",
       "      <td>14999</td>\n",
       "      <td>2016-03-01</td>\n",
       "      <td>14651</td>\n",
       "      <td>F</td>\n",
       "      <td>False</td>\n",
       "      <td>True</td>\n",
       "      <td>2.0</td>\n",
       "      <td>Servidor público</td>\n",
       "      <td>Secundário</td>\n",
       "      <td>União</td>\n",
       "      <td>Casa</td>\n",
       "      <td>34</td>\n",
       "      <td>7.219178</td>\n",
       "      <td>4.0</td>\n",
       "      <td>1160.99</td>\n",
       "      <td>senior</td>\n",
       "      <td>0.117647</td>\n",
       "      <td>4.709677</td>\n",
       "    </tr>\n",
       "  </tbody>\n",
       "</table>\n",
       "<p>11987 rows × 18 columns</p>\n",
       "</div>"
      ],
      "text/plain": [
       "       Unnamed: 0    data_ref  id_cliente sexo  posse_de_veiculo  \\\n",
       "0               0  2015-01-01       15056    F             False   \n",
       "1               1  2015-01-01        9968    M              True   \n",
       "2               2  2015-01-01        4312    F              True   \n",
       "3               3  2015-01-01       10639    F             False   \n",
       "4               4  2015-01-01        7064    M              True   \n",
       "...           ...         ...         ...  ...               ...   \n",
       "14994       14994  2016-03-01       11477    M              True   \n",
       "14995       14995  2016-03-01       16006    F             False   \n",
       "14997       14997  2016-03-01        6194    F              True   \n",
       "14998       14998  2016-03-01        4922    M              True   \n",
       "14999       14999  2016-03-01       14651    F             False   \n",
       "\n",
       "       posse_de_imovel  qtd_filhos        tipo_renda             educacao  \\\n",
       "0                 True         0.0        Empresário           Secundário   \n",
       "1                 True         0.0       Assalariado    Superior completo   \n",
       "2                 True         0.0        Empresário    Superior completo   \n",
       "3                 True         1.0  Servidor público    Superior completo   \n",
       "4                False         0.0       Assalariado           Secundário   \n",
       "...                ...         ...               ...                  ...   \n",
       "14994            False         0.0        Empresário  Superior incompleto   \n",
       "14995             True         0.0        Empresário           Secundário   \n",
       "14997             True         0.0       Assalariado    Superior completo   \n",
       "14998            False         0.0        Empresário    Superior completo   \n",
       "14999             True         2.0  Servidor público           Secundário   \n",
       "\n",
       "      estado_civil tipo_residencia  idade  tempo_emprego  \\\n",
       "0         Solteiro            Casa     26       6.602740   \n",
       "1           Casado            Casa     28       7.183562   \n",
       "2           Casado            Casa     35       0.838356   \n",
       "3           Casado            Casa     30       4.846575   \n",
       "4         Solteiro   Governamental     33       4.293151   \n",
       "...            ...             ...    ...            ...   \n",
       "14994       Casado            Casa     32       9.849315   \n",
       "14995     Solteiro            Casa     48      13.887671   \n",
       "14997       Casado            Casa     45       7.832877   \n",
       "14998       Casado            Casa     36       4.298630   \n",
       "14999        União            Casa     34       7.219178   \n",
       "\n",
       "       qt_pessoas_residencia    renda tempo_emprego_cat  \\\n",
       "0                        1.0  8060.34             pleno   \n",
       "1                        2.0  1852.15            senior   \n",
       "2                        2.0  2253.89            junior   \n",
       "3                        3.0  6600.77             pleno   \n",
       "4                        1.0  6475.97             pleno   \n",
       "...                      ...      ...               ...   \n",
       "14994                    2.0  1592.57            senior   \n",
       "14995                    1.0  7990.58            senior   \n",
       "14997                    2.0   604.82            senior   \n",
       "14998                    2.0  3352.27             pleno   \n",
       "14999                    4.0  1160.99            senior   \n",
       "\n",
       "       qt_pessoa_res_por_idade  indade_temp_emprego  \n",
       "0                     0.038462             3.937759  \n",
       "1                     0.071429             3.897788  \n",
       "2                     0.057143            41.748366  \n",
       "3                     0.100000             6.189938  \n",
       "4                     0.030303             7.686662  \n",
       "...                        ...                  ...  \n",
       "14994                 0.062500             3.248957  \n",
       "14995                 0.020833             3.456303  \n",
       "14997                 0.044444             5.745016  \n",
       "14998                 0.055556             8.374761  \n",
       "14999                 0.117647             4.709677  \n",
       "\n",
       "[11987 rows x 18 columns]"
      ]
     },
     "execution_count": 36,
     "metadata": {},
     "output_type": "execute_result"
    }
   ],
   "source": [
    "df_clean[\"qt_pessoa_res_por_idade\"] = df[\"qt_pessoas_residencia\"]/ df[\"idade\"]\n",
    "df_clean[\"indade_temp_emprego\"]= df[\"idade\"]/df[\"tempo_emprego\"]\n",
    "\n",
    "df_clean"
   ]
  },
  {
   "cell_type": "markdown",
   "metadata": {},
   "source": [
    "### Reavaliando o melhor modelos a gora com novas colunas.\n",
    "\n"
   ]
  },
  {
   "cell_type": "code",
   "execution_count": 38,
   "metadata": {},
   "outputs": [],
   "source": [
    "#separando a base targe e preditoras.\n",
    "X = df_clean.drop([\"renda\",], axis=1)\n",
    "y = df_clean[\"renda\"]"
   ]
  },
  {
   "cell_type": "code",
   "execution_count": 39,
   "metadata": {},
   "outputs": [],
   "source": [
    "# categorizando as preditoras.\n",
    "X = pd.get_dummies(X)"
   ]
  },
  {
   "cell_type": "code",
   "execution_count": 40,
   "metadata": {},
   "outputs": [],
   "source": [
    "# tranformando os dados booleanos em inteiros\n",
    "X[X.select_dtypes(include=['bool']).columns] = X.select_dtypes(include=['bool']).astype(int)\n"
   ]
  },
  {
   "cell_type": "code",
   "execution_count": 41,
   "metadata": {},
   "outputs": [
    {
     "name": "stdout",
     "output_type": "stream",
     "text": [
      "<class 'pandas.core.frame.DataFrame'>\n",
      "Index: 11987 entries, 0 to 14999\n",
      "Data columns (total 51 columns):\n",
      " #   Column                         Non-Null Count  Dtype  \n",
      "---  ------                         --------------  -----  \n",
      " 0   Unnamed: 0                     11987 non-null  int64  \n",
      " 1   id_cliente                     11987 non-null  int64  \n",
      " 2   posse_de_veiculo               11987 non-null  int64  \n",
      " 3   posse_de_imovel                11987 non-null  int64  \n",
      " 4   qtd_filhos                     11987 non-null  float64\n",
      " 5   idade                          11987 non-null  int64  \n",
      " 6   tempo_emprego                  11987 non-null  float64\n",
      " 7   qt_pessoas_residencia          11987 non-null  float64\n",
      " 8   qt_pessoa_res_por_idade        11987 non-null  float64\n",
      " 9   indade_temp_emprego            11987 non-null  float64\n",
      " 10  data_ref_2015-01-01            11987 non-null  int64  \n",
      " 11  data_ref_2015-02-01            11987 non-null  int64  \n",
      " 12  data_ref_2015-03-01            11987 non-null  int64  \n",
      " 13  data_ref_2015-04-01            11987 non-null  int64  \n",
      " 14  data_ref_2015-05-01            11987 non-null  int64  \n",
      " 15  data_ref_2015-06-01            11987 non-null  int64  \n",
      " 16  data_ref_2015-07-01            11987 non-null  int64  \n",
      " 17  data_ref_2015-08-01            11987 non-null  int64  \n",
      " 18  data_ref_2015-09-01            11987 non-null  int64  \n",
      " 19  data_ref_2015-10-01            11987 non-null  int64  \n",
      " 20  data_ref_2015-11-01            11987 non-null  int64  \n",
      " 21  data_ref_2015-12-01            11987 non-null  int64  \n",
      " 22  data_ref_2016-01-01            11987 non-null  int64  \n",
      " 23  data_ref_2016-02-01            11987 non-null  int64  \n",
      " 24  data_ref_2016-03-01            11987 non-null  int64  \n",
      " 25  sexo_F                         11987 non-null  int64  \n",
      " 26  sexo_M                         11987 non-null  int64  \n",
      " 27  tipo_renda_Assalariado         11987 non-null  int64  \n",
      " 28  tipo_renda_Bolsista            11987 non-null  int64  \n",
      " 29  tipo_renda_Empresário          11987 non-null  int64  \n",
      " 30  tipo_renda_Pensionista         11987 non-null  int64  \n",
      " 31  tipo_renda_Servidor público    11987 non-null  int64  \n",
      " 32  educacao_Primário              11987 non-null  int64  \n",
      " 33  educacao_Pós graduação         11987 non-null  int64  \n",
      " 34  educacao_Secundário            11987 non-null  int64  \n",
      " 35  educacao_Superior completo     11987 non-null  int64  \n",
      " 36  educacao_Superior incompleto   11987 non-null  int64  \n",
      " 37  estado_civil_Casado            11987 non-null  int64  \n",
      " 38  estado_civil_Separado          11987 non-null  int64  \n",
      " 39  estado_civil_Solteiro          11987 non-null  int64  \n",
      " 40  estado_civil_União             11987 non-null  int64  \n",
      " 41  estado_civil_Viúvo             11987 non-null  int64  \n",
      " 42  tipo_residencia_Aluguel        11987 non-null  int64  \n",
      " 43  tipo_residencia_Casa           11987 non-null  int64  \n",
      " 44  tipo_residencia_Com os pais    11987 non-null  int64  \n",
      " 45  tipo_residencia_Comunitário    11987 non-null  int64  \n",
      " 46  tipo_residencia_Estúdio        11987 non-null  int64  \n",
      " 47  tipo_residencia_Governamental  11987 non-null  int64  \n",
      " 48  tempo_emprego_cat_junior       11987 non-null  int64  \n",
      " 49  tempo_emprego_cat_pleno        11987 non-null  int64  \n",
      " 50  tempo_emprego_cat_senior       11987 non-null  int64  \n",
      "dtypes: float64(5), int64(46)\n",
      "memory usage: 4.8 MB\n"
     ]
    }
   ],
   "source": [
    "X.info()"
   ]
  },
  {
   "cell_type": "code",
   "execution_count": 42,
   "metadata": {},
   "outputs": [],
   "source": [
    "# Separando em dados de treino (75%) e teste(25%)\n",
    "X_train, X_test, y_train, y_test = train_test_split(X, y, test_size=0.25, random_state=100)"
   ]
  },
  {
   "cell_type": "code",
   "execution_count": 104,
   "metadata": {},
   "outputs": [
    {
     "name": "stdout",
     "output_type": "stream",
     "text": [
      "Add  tempo_emprego                  with p-value 0.000000\n",
      "Add  sexo_M                         with p-value 0.000000\n",
      "Add  sexo_F                         with p-value 0.000000\n",
      "Add  tipo_renda_Assalariado         with p-value 0.000000\n",
      "Add  educacao_Superior completo     with p-value 0.000000\n",
      "Add  idade                          with p-value 0.000000\n",
      "Add  posse_de_imovel                with p-value 0.000022\n",
      "Add  qtd_filhos                     with p-value 0.000101\n",
      "Add  id_cliente                     with p-value 0.000132\n",
      "Add  tempo_emprego_cat_senior       with p-value 0.000826\n",
      "Add  data_ref_2016-03-01            with p-value 0.007970\n",
      "\n",
      "Melhor modelo Stepwise - R² na base de teste: 0.2919\n",
      "Erro Quadrático Médio (MSE): 20434454.8986\n",
      "Variáveis selecionadas: ['tempo_emprego', 'sexo_M', 'sexo_F', 'tipo_renda_Assalariado', 'educacao_Superior completo', 'idade', 'posse_de_imovel', 'qtd_filhos', 'id_cliente', 'tempo_emprego_cat_senior', 'data_ref_2016-03-01']\n"
     ]
    },
    {
     "data": {
      "text/plain": [
       "(['tempo_emprego',\n",
       "  'sexo_M',\n",
       "  'sexo_F',\n",
       "  'tipo_renda_Assalariado',\n",
       "  'educacao_Superior completo',\n",
       "  'idade',\n",
       "  'posse_de_imovel',\n",
       "  'qtd_filhos',\n",
       "  'id_cliente',\n",
       "  'tempo_emprego_cat_senior',\n",
       "  'data_ref_2016-03-01'],\n",
       " LinearRegression(),\n",
       " np.float64(20434454.89856683),\n",
       " 0.291879529853332)"
      ]
     },
     "execution_count": 104,
     "metadata": {},
     "output_type": "execute_result"
    }
   ],
   "source": [
    "stepwise_selection(X,y)"
   ]
  },
  {
   "cell_type": "markdown",
   "metadata": {},
   "source": [
    "Com a adição das novas colunas preditoras, o modelo teve um desempenho semelhante. No entanto, houve um aumento da complexidade do modelo. Por isso, vamos manter as colunas como estão para dar seguimento à nossa análise."
   ]
  },
  {
   "cell_type": "code",
   "execution_count": null,
   "metadata": {},
   "outputs": [],
   "source": []
  }
 ],
 "metadata": {
  "kernelspec": {
   "display_name": "projeto_regressao",
   "language": "python",
   "name": "projeto_regressao"
  },
  "language_info": {
   "codemirror_mode": {
    "name": "ipython",
    "version": 3
   },
   "file_extension": ".py",
   "mimetype": "text/x-python",
   "name": "python",
   "nbconvert_exporter": "python",
   "pygments_lexer": "ipython3",
   "version": "3.12.5"
  }
 },
 "nbformat": 4,
 "nbformat_minor": 4
}
